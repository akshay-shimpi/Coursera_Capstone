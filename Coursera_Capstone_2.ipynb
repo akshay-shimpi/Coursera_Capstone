{
 "cells": [
  {
   "cell_type": "markdown",
   "metadata": {},
   "source": [
    "### Hear i'm using the BeautifulSoup python package to extract data from Wikipedia Web site, pandas for creating datafrmae, requests for accessing web page (Wikipedia page)"
   ]
  },
  {
   "cell_type": "code",
   "execution_count": 129,
   "metadata": {},
   "outputs": [
    {
     "name": "stdout",
     "output_type": "stream",
     "text": [
      "Completed!\n"
     ]
    }
   ],
   "source": [
    "import requests\n",
    "from bs4 import BeautifulSoup\n",
    "import pandas as pd\n",
    "print('Completed!')"
   ]
  },
  {
   "cell_type": "markdown",
   "metadata": {},
   "source": [
    "### After importing all relevant libs, its time to applying web scraping"
   ]
  },
  {
   "cell_type": "code",
   "execution_count": 130,
   "metadata": {},
   "outputs": [],
   "source": [
    "URL = \"https://en.wikipedia.org/wiki/List_of_postal_codes_of_Canada:_M\"\n",
    "wikiPage = requests.get(URL)\n",
    "\n",
    "bsp = BeautifulSoup(wikiPage.content,'html.parser')\n",
    "\n",
    "#hear i'm find the element using 'class_' used in element\n",
    "dataTableElements = bsp.find(class_= 'wikitable sortable') \n",
    "\n",
    "#then reading the table data from that element e.g in our case reading data from table which have class name as 'wikitable sortable'\n",
    "dataTableElements = dataTableElements.find('tbody')"
   ]
  },
  {
   "cell_type": "code",
   "execution_count": 131,
   "metadata": {},
   "outputs": [
    {
     "name": "stdout",
     "output_type": "stream",
     "text": [
      "PostalCode  180\n",
      "Borough  180\n",
      "Neighborhood  180\n"
     ]
    }
   ],
   "source": [
    "#lets create some lists which will be used at the time of dataframe creation\n",
    "PostalCode = []\n",
    "Borough = []\n",
    "Neighborhood = []\n",
    "\n",
    "#loop throught all table data\n",
    "\n",
    "#currentElementCounter this variable act as an current reading column index from table\n",
    "currentElementCounter = 0;\n",
    "for elements in dataTableElements.find_all('td') :\n",
    "        row = elements\n",
    "        if(currentElementCounter==0):\n",
    "            PostalCode.append(row.text.replace('\\n', ''))\n",
    "            currentElementCounter =1\n",
    "        elif(currentElementCounter==1):\n",
    "            Borough.append(row.text.replace('\\n', ''))\n",
    "            currentElementCounter =2\n",
    "        elif(currentElementCounter==2):\n",
    "            Neighborhood.append(row.text.replace('\\n', ''))\n",
    "            currentElementCounter =0 \n",
    "        \n",
    "print(\"PostalCode \",len(PostalCode))\n",
    "print(\"Borough \",len(Borough))\n",
    "print(\"Neighborhood \",len(Neighborhood))"
   ]
  },
  {
   "cell_type": "markdown",
   "metadata": {},
   "source": [
    "### Now we are going to create a pandas dataframe"
   ]
  },
  {
   "cell_type": "code",
   "execution_count": 135,
   "metadata": {},
   "outputs": [
    {
     "data": {
      "text/html": [
       "<div>\n",
       "<style scoped>\n",
       "    .dataframe tbody tr th:only-of-type {\n",
       "        vertical-align: middle;\n",
       "    }\n",
       "\n",
       "    .dataframe tbody tr th {\n",
       "        vertical-align: top;\n",
       "    }\n",
       "\n",
       "    .dataframe thead th {\n",
       "        text-align: right;\n",
       "    }\n",
       "</style>\n",
       "<table border=\"1\" class=\"dataframe\">\n",
       "  <thead>\n",
       "    <tr style=\"text-align: right;\">\n",
       "      <th></th>\n",
       "      <th>PostalCode</th>\n",
       "      <th>Borough</th>\n",
       "      <th>Neighborhood</th>\n",
       "    </tr>\n",
       "  </thead>\n",
       "  <tbody>\n",
       "    <tr>\n",
       "      <th>0</th>\n",
       "      <td>M3A</td>\n",
       "      <td>North York</td>\n",
       "      <td>Parkwoods</td>\n",
       "    </tr>\n",
       "    <tr>\n",
       "      <th>1</th>\n",
       "      <td>M4A</td>\n",
       "      <td>North York</td>\n",
       "      <td>Victoria Village</td>\n",
       "    </tr>\n",
       "    <tr>\n",
       "      <th>2</th>\n",
       "      <td>M5A</td>\n",
       "      <td>Downtown Toronto</td>\n",
       "      <td>Regent Park, Harbourfront</td>\n",
       "    </tr>\n",
       "    <tr>\n",
       "      <th>3</th>\n",
       "      <td>M6A</td>\n",
       "      <td>North York</td>\n",
       "      <td>Lawrence Manor, Lawrence Heights</td>\n",
       "    </tr>\n",
       "    <tr>\n",
       "      <th>4</th>\n",
       "      <td>M7A</td>\n",
       "      <td>Downtown Toronto</td>\n",
       "      <td>Queen's Park, Ontario Provincial Government</td>\n",
       "    </tr>\n",
       "  </tbody>\n",
       "</table>\n",
       "</div>"
      ],
      "text/plain": [
       "  PostalCode           Borough                                 Neighborhood\n",
       "0        M3A        North York                                    Parkwoods\n",
       "1        M4A        North York                             Victoria Village\n",
       "2        M5A  Downtown Toronto                    Regent Park, Harbourfront\n",
       "3        M6A        North York             Lawrence Manor, Lawrence Heights\n",
       "4        M7A  Downtown Toronto  Queen's Park, Ontario Provincial Government"
      ]
     },
     "execution_count": 135,
     "metadata": {},
     "output_type": "execute_result"
    }
   ],
   "source": [
    "#defining the data directory\n",
    "frame = {\n",
    "    'PostalCode' : PostalCode,\n",
    "    'Borough' : Borough,\n",
    "    'Neighborhood' : Neighborhood\n",
    "}\n",
    "\n",
    "df = pd.DataFrame(frame,columns=['PostalCode','Borough','Neighborhood'])\n",
    "\n",
    "#remove the not assigned Borough from dataframe\n",
    "df = df[df.Borough != 'Not assigned']\n",
    "\n",
    "#NOTE : While analyzing the dataframe i have not found any row which will meet this case => 'If a cell has a borough but a Not assigned neighborhood, then the neighborhood will be the same as the borough.'\n",
    "\n",
    "#resetting the index after removing 'not assigned' Borough\n",
    "df = df.reset_index(drop=True)\n",
    "\n",
    "#show first 5 data from dataset\n",
    "df.head(5)"
   ]
  },
  {
   "cell_type": "code",
   "execution_count": 136,
   "metadata": {},
   "outputs": [
    {
     "data": {
      "text/plain": [
       "(103, 3)"
      ]
     },
     "execution_count": 136,
     "metadata": {},
     "output_type": "execute_result"
    }
   ],
   "source": [
    "#shape of datarame\n",
    "df.shape"
   ]
  },
  {
   "cell_type": "markdown",
   "metadata": {},
   "source": [
    "### i'm going to save this dataframe in .csv for later use"
   ]
  },
  {
   "cell_type": "code",
   "execution_count": 137,
   "metadata": {},
   "outputs": [],
   "source": [
    "df.to_csv(\"webScraping.csv\")"
   ]
  }
 ],
 "metadata": {
  "kernelspec": {
   "display_name": "Python",
   "language": "python",
   "name": "conda-env-python-py"
  },
  "language_info": {
   "codemirror_mode": {
    "name": "ipython",
    "version": 3
   },
   "file_extension": ".py",
   "mimetype": "text/x-python",
   "name": "python",
   "nbconvert_exporter": "python",
   "pygments_lexer": "ipython3",
   "version": "3.6.10"
  }
 },
 "nbformat": 4,
 "nbformat_minor": 4
}
